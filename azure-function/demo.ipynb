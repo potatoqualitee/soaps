{
 "cells": [
  {
   "cell_type": "markdown",
   "metadata": {},
   "source": [
    "# Updating SharePoint document colums using AI\n",
    "\n",
    "This notebook demonstrates how to use AI to automatically extract metadata from SharePoint documents, using structured outputs. While we'll use legal documents as examples, this approach works for any scenario where manual metadata entry is a burden.\n",
    "\n",
    "## The Metadata Problem\n",
    "\n",
    "Document management systems like SharePoint rely heavily on metadata (columns/fields) for:\n",
    "- **Search**: Find documents by properties rather than just text\n",
    "- **Organization**: Group related documents automatically\n",
    "- **Workflows**: Trigger actions based on document properties\n",
    "- **Compliance**: Track and enforce document policies\n",
    "\n",
    "However, users often avoid filling in metadata fields because:\n",
    "1. It's time-consuming\n",
    "2. The fields' purpose isn't always clear\n",
    "3. They'd rather save to their desktop than fill out forms\n",
    "\n",
    "This leads to:\n",
    "- Poor searchability\n",
    "- Duplicate content\n",
    "- Missed automation opportunities\n",
    "\n",
    "## The Solution: Structured AI Outputs\n",
    "\n",
    "Instead of asking users to fill in metadata, we can use AI to automatically extract it. The key is using structured outputs rather than chat-style interactions:"
   ]
  },
  {
   "cell_type": "code",
   "execution_count": null,
   "metadata": {
    "dotnet_interactive": {
     "language": "pwsh"
    },
    "polyglot_notebook": {
     "kernelName": "pwsh"
    },
    "vscode": {
     "languageId": "polyglot-notebook"
    }
   },
   "outputs": [],
   "source": [
    "# Define what metadata we want to extract\n",
    "$schema = @{\n",
    "    name = \"legal_document_metadata\"\n",
    "    strict = $true\n",
    "    schema = @{\n",
    "        type = \"object\"\n",
    "        properties = @{\n",
    "            document_type = @{\n",
    "                type = \"string\"\n",
    "                enum = @(\n",
    "                    \"Case Brief\", \"Legal Opinion\", \"Memo\",\n",
    "                    \"Article\", \"Regulation\", \"Statute\",\n",
    "                    \"Petition\", \"News\"\n",
    "                )\n",
    "                description = \"What type of legal document is this?\"\n",
    "            }\n",
    "            subject_area = @{\n",
    "                type = \"string\"\n",
    "                enum = @(\n",
    "                    \"Constitutional Law\", \"Tax Law\", \"Environmental Law\",\n",
    "                    \"Employment Law\", \"Intellectual Property\", \"Family Law\"\n",
    "                )\n",
    "                description = \"What area of law does this document concern?\"\n",
    "            }\n",
    "            parties = @{\n",
    "                type = \"array\"\n",
    "                items = @{ type = \"string\" }\n",
    "                description = \"Who are the main parties mentioned in this document?\"\n",
    "            }\n",
    "            priority = @{\n",
    "                type = \"string\"\n",
    "                enum = @(\"High\", \"Medium\", \"Low\")\n",
    "                description = \"What is the priority level of this document?\"\n",
    "            }\n",
    "            keywords = @{\n",
    "                type = \"array\"\n",
    "                items = @{ type = \"string\" }\n",
    "                description = \"What are the key legal concepts or terms in this document?\"\n",
    "            }\n",
    "            requires_action = @{\n",
    "                type = \"boolean\"\n",
    "                description = \"Does this document require immediate action or response?\"\n",
    "            }\n",
    "        }\n",
    "        required = @(\n",
    "            \"document_type\", \"subject_area\", \"parties\",\n",
    "            \"keywords\", \"requires_action\"\n",
    "        )\n",
    "    }\n",
    "}"
   ]
  },
  {
   "cell_type": "markdown",
   "metadata": {},
   "source": [
    "This schema maps directly to SharePoint columns:\n",
    "- Choice columns for document_type, subject_area, priority\n",
    "- Managed metadata for keywords\n",
    "- Multi-line text for parties (could be Person column type)\n",
    "- Yes/No column for requires_action\n",
    "\n",
    "## Real-World Examples\n",
    "\n",
    "### Example 1: Update Existing SharePoint Library\n",
    "\n",
    "This example shows how to enhance an existing document library with AI-extracted metadata. Perfect for libraries with lots of documents but minimal metadata:"
   ]
  },
  {
   "cell_type": "code",
   "execution_count": null,
   "metadata": {
    "dotnet_interactive": {
     "language": "pwsh"
    },
    "polyglot_notebook": {
     "kernelName": "pwsh"
    },
    "vscode": {
     "languageId": "polyglot-notebook"
    }
   },
   "outputs": [],
   "source": [
    "# First, connect to SharePoint (requires PnP PowerShell)\n",
    "Connect-PnPOnline -Url \"https://contoso.sharepoint.com/sites/legal\" -Interactive\n",
    "\n",
    "# Get all documents from a specific library\n",
    "$docs = Get-PnPListItem -List \"Documents\" -PageSize 500\n",
    "\n",
    "foreach ($doc in $docs) {\n",
    "    try {\n",
    "        # Download file to temp location\n",
    "        $tempPath = Join-Path $env:TEMP $doc.FieldValues.FileLeafRef\n",
    "        Get-PnPFile -Url $doc.FieldValues.FileRef -Path $env:TEMP -Filename $doc.FieldValues.FileLeafRef -AsFile\n",
    "\n",
    "        # Extract metadata using our schema\n",
    "        $metadata = Get-Item $tempPath |\n",
    "                    Invoke-DocProcessing -Schema $schema\n",
    "\n",
    "        # Update SharePoint item with new metadata\n",
    "        $updateValues = @{\n",
    "            DocumentType = $metadata.document_type\n",
    "            SubjectArea = $metadata.subject_area\n",
    "            Parties = $metadata.parties -join \"; \"\n",
    "            Priority = $metadata.priority\n",
    "            Keywords = $metadata.keywords # Assumes managed metadata field\n",
    "            RequiresAction = $metadata.requires_action\n",
    "        }\n",
    "\n",
    "        Set-PnPListItem -List \"Documents\" -Identity $doc.Id -Values $updateValues\n",
    "        Write-Host \"Updated metadata for: $($doc.FieldValues.FileLeafRef)\"\n",
    "\n",
    "        # Cleanup\n",
    "        Remove-Item $tempPath -Force\n",
    "    }\n",
    "    catch {\n",
    "        Write-Warning \"Failed to process $($doc.FieldValues.FileLeafRef): $_\"\n",
    "    }\n",
    "}\n",
    "\n",
    "# Disconnect from SharePoint\n",
    "Disconnect-PnPOnline"
   ]
  },
  {
   "cell_type": "markdown",
   "metadata": {},
   "source": [
    "This script:\n",
    "1. Connects to your SharePoint site\n",
    "2. Gets all documents from a library\n",
    "3. Downloads each file temporarily\n",
    "4. Extracts metadata using AI\n",
    "5. Updates the SharePoint item\n",
    "6. Cleans up temporary files\n",
    "\n",
    "Great for:\n",
    "- Enhancing existing document libraries\n",
    "- Standardizing metadata across documents\n",
    "- Making old documents more searchable\n",
    "\n",
    "## Processing a Single Document\n",
    "\n",
    "Let's look at how the metadata extraction works on a single document:"
   ]
  },
  {
   "cell_type": "code",
   "execution_count": null,
   "metadata": {
    "dotnet_interactive": {
     "language": "pwsh"
    },
    "polyglot_notebook": {
     "kernelName": "pwsh"
    },
    "vscode": {
     "languageId": "polyglot-notebook"
    }
   },
   "outputs": [],
   "source": [
    "# Process a single document\n",
    "Get-ChildItem \"./docs/Case Brief Jaques Dubois.docx\" |\n",
    "    Invoke-DocProcessing -Schema $schema"
   ]
  },
  {
   "cell_type": "markdown",
   "metadata": {},
   "source": [
    "Notice how the AI:\n",
    "1. Reads the document content\n",
    "2. Extracts relevant metadata\n",
    "3. Returns it in exactly the format we specified\n",
    "\n",
    "## Batch Processing\n",
    "\n",
    "The real power comes from processing multiple documents. Here we'll process EPA regulations and tax memos to show how it handles different document types:"
   ]
  },
  {
   "cell_type": "code",
   "execution_count": null,
   "metadata": {
    "dotnet_interactive": {
     "language": "pwsh"
    },
    "polyglot_notebook": {
     "kernelName": "pwsh"
    },
    "vscode": {
     "languageId": "polyglot-notebook"
    }
   },
   "outputs": [],
   "source": [
    "# Process multiple documents\n",
    "Get-ChildItem './docs/News EPA Regulations.docx', './docs/Memo Tax Foreign Investments.docx' |\n",
    "    Invoke-DocProcessing -Schema $schema"
   ]
  },
  {
   "cell_type": "markdown",
   "metadata": {},
   "source": [
    "## More Integration Examples\n",
    "\n",
    "### SharePoint Upload with Metadata\n",
    "```powershell\n",
    "# Example SharePoint upload with metadata (requires PnP PowerShell)\n",
    "$results = Get-ChildItem ./docs |\n",
    "           Invoke-DocProcessing -Schema $schema\n",
    "\n",
    "foreach ($doc in $results) {\n",
    "    Add-PnPFile -Path $doc.Path -NewFileName $doc.Name -Values @{\n",
    "        DocumentType = $doc.Metadata.document_type\n",
    "        SubjectArea = $doc.Metadata.subject_area\n",
    "        Parties = $doc.Metadata.parties -join \"; \"\n",
    "        Priority = $doc.Metadata.priority\n",
    "        Keywords = $doc.Metadata.keywords\n",
    "        RequiresAction = $doc.Metadata.requires_action\n",
    "    }\n",
    "}\n",
    "```\n",
    "\n",
    "### DevOps Pipeline Integration\n",
    "```yaml\n",
    "# Example Azure Pipeline task\n",
    "- task: PowerShell@2\n",
    "  inputs:\n",
    "    targetType: 'inline'\n",
    "    script: |\n",
    "      $schema = Get-Content ./metadata-schema.json | ConvertFrom-Json\n",
    "      Get-ChildItem ./docs -Recurse |\n",
    "        Invoke-DocProcessing -Schema $schema |\n",
    "        Export-Csv -Path ./metadata.csv\n",
    "```\n",
    "\n",
    "## Why This Matters\n",
    "\n",
    "1. **Zero User Input**: Metadata is extracted automatically\n",
    "2. **Consistent Results**: Schema ensures standardized output\n",
    "3. **Flexible Integration**: Works with any document management system\n",
    "4. **Scalable Automation**: Process thousands of documents easily\n",
    "\n",
    "Think about how much time this saves:\n",
    "- Users just upload documents normally\n",
    "- AI extracts metadata automatically\n",
    "- Documents become instantly searchable\n",
    "- Workflows can trigger based on metadata\n",
    "\n",
    "And because we're using structured outputs instead of chat:\n",
    "- Results are consistent and validated\n",
    "- Output maps directly to SharePoint columns\n",
    "- Easy to integrate with existing systems\n",
    "- Scales to handle large document libraries\n",
    "\n",
    "## Try it Now\n",
    "\n",
    "Let's try a comprehensive example with a new legal document schema that captures even more metadata.\n",
    "\n",
    "### Before You Begin\n",
    "\n",
    "Before running the examples in this notebook, make sure you have:\n",
    "\n",
    "1. Set the required environment variables:\n",
    "   - `API_KEY`: Your OpenAI API key\n",
    "   - `API_BASE`: (Optional) API base URL if using Azure OpenAI or other providers\n",
    "   - `Model`: The model to use (e.g., \"gpt-4o\", \"gpt-4o-mini\")\n",
    "   - `AZURE_FUNCTION_KEY`: Function key for authentication\n",
    "\n",
    "2. The PowerShell modules required for document processing are installed\n",
    "\n",
    "3. If using Azure OpenAI or other AI providers, ensure your `API_BASE` is properly configured (e.g., https://xyz.openai.azure.com for Azure OpenAI)\n",
    "\n",
    "4. Start the Azure Function shell in VS Code Terminal.\n",
    "\n",
    "The environment variables can be set in your PowerShell session or added to your local.settings.json file.\n",
    "\n",
    "Once you've got those setup..."
   ]
  },
  {
   "cell_type": "code",
   "execution_count": null,
   "metadata": {
    "dotnet_interactive": {
     "language": "pwsh"
    },
    "polyglot_notebook": {
     "kernelName": "pwsh"
    },
    "vscode": {
     "languageId": "polyglot-notebook"
    }
   },
   "outputs": [],
   "source": [
    "# Define what metadata we want to extract\n",
    "$schema = @{\n",
    "    name = \"legal_document_metadata\"\n",
    "    strict = $true\n",
    "    schema = @{\n",
    "        type = \"object\"\n",
    "        properties = @{\n",
    "            area_of_law = @{\n",
    "                type = \"string\"\n",
    "                enum = @(\n",
    "                    \"Criminal Law\", \"Civil Law\", \"Contract Law\",\n",
    "                    \"Property Law\", \"Family Law\", \"Labor and Employment Law\",\n",
    "                    \"Intellectual Property Law\", \"Tax Law\", \"Constitutional Law\",\n",
    "                    \"Administrative Law\"\n",
    "                )\n",
    "                description = \"What area of law does the document primarily belong to?\"\n",
    "            }\n",
    "            document_type = @{\n",
    "                type = \"string\"\n",
    "                enum = @(\n",
    "                    \"Case Brief\", \"Legal Opinion\", \"Contract\",\n",
    "                    \"Statute\", \"Regulation\", \"Court Filing\",\n",
    "                    \"Legal Memorandum\", \"Legal Article\", \"Legal News\"\n",
    "                )\n",
    "                description = \"What type of legal document is this?\"\n",
    "            }\n",
    "            parties_involved = @{\n",
    "                type = \"array\"\n",
    "                items = @{ type = \"string\" }\n",
    "                description = \"What are the names of the parties involved in this legal matter?\"\n",
    "            }\n",
    "            court = @{\n",
    "                type = \"string\"\n",
    "                description = \"Which court or jurisdiction does this document relate to?\"\n",
    "            }\n",
    "            case_number = @{\n",
    "                type = \"string\"\n",
    "                description = \"What case number is associated with this document, if applicable.\"\n",
    "            }\n",
    "            keywords = @{\n",
    "                type = \"array\"\n",
    "                items = @{ type = \"string\" }\n",
    "                description = \"What are some good keywords or tags for this document?\"\n",
    "            }\n",
    "        }\n",
    "        required = @(\n",
    "            \"area_of_law\", \"document_type\", \"parties_involved\",\n",
    "            \"court\", \"case_number\", \"keywords\"\n",
    "        )\n",
    "        additionalProperties = $false\n",
    "    }\n",
    "}\n",
    "\n",
    "\n",
    "# Process all documents in the docs directory\n",
    "Get-ChildItem /workspaces/soaps/azure-function/docs |\n",
    "    Invoke-DocProcessing -Schema $schema"
   ]
  },
  {
   "cell_type": "markdown",
   "metadata": {},
   "source": [
    "# Power Platform\n",
    "\n",
    "The Power Platform integrates our metadata extraction solution directly into SharePoint workflows.\n",
    "\n",
    "![powerplatform.png](powerplatform.png)\n",
    "\n",
    "As seen in the image, we can create a Power Automate flow with these steps:\n",
    "\n",
    "1. **Automatic trigger** when a new document is uploaded to SharePoint (\"When a file is created (properties only)\")\n",
    "2. **File content retrieval** from the document library\n",
    "3. **POST request to Azure Function** to process the document\n",
    "4. **Structured output parsing** from the Azure Function response\n",
    "5. **SharePoint property updates** with the extracted metadata\n",
    "\n",
    "This automation eliminates manual metadata entry:\n",
    "- Users upload documents to SharePoint through standard methods\n",
    "- The flow processes each document in the background\n",
    "- Metadata columns are populated automatically\n",
    "- Documents become properly indexed for search and organization\n",
    "\n",
    "The flow can be configured to:\n",
    "- Work with specific document libraries\n",
    "- Use different schemas for various document types\n",
    "- Alert users about important documents\n",
    "- Initiate additional processes based on document metadata\n",
    "\n",
    "This approach connects SharePoint for document storage, Azure Functions for processing, and Power Automate for workflow orchestration - creating a complete solution that reduces manual work while improving document organization and discoverability."
   ]
  }
 ],
 "metadata": {
  "kernelspec": {
   "display_name": ".NET (C#)",
   "language": "C#",
   "name": ".net-csharp"
  },
  "language_info": {
   "name": "powershell"
  },
  "polyglot_notebook": {
   "kernelInfo": {
    "defaultKernelName": "csharp",
    "items": [
     {
      "aliases": [],
      "name": "csharp"
     }
    ]
   }
  }
 },
 "nbformat": 4,
 "nbformat_minor": 2
}
